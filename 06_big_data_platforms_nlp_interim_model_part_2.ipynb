{
  "nbformat": 4,
  "nbformat_minor": 0,
  "metadata": {
    "colab": {
      "name": "big_data_platforms_nlp_interim_model_part_2.ipynb",
      "provenance": [],
      "collapsed_sections": []
    },
    "kernelspec": {
      "display_name": "Python 3",
      "name": "python3"
    },
    "language_info": {
      "name": "python"
    }
  },
  "cells": [
    {
      "cell_type": "code",
      "metadata": {
        "colab": {
          "base_uri": "https://localhost:8080/"
        },
        "id": "QnvYuPxrLUBq",
        "outputId": "d3f914b5-b121-4c81-af7f-e2f898e85463"
      },
      "source": [
        "from google.colab import drive\n",
        "drive.mount('/content/drive')"
      ],
      "execution_count": null,
      "outputs": [
        {
          "output_type": "stream",
          "name": "stdout",
          "text": [
            "Drive already mounted at /content/drive; to attempt to forcibly remount, call drive.mount(\"/content/drive\", force_remount=True).\n"
          ]
        }
      ]
    },
    {
      "cell_type": "code",
      "metadata": {
        "colab": {
          "base_uri": "https://localhost:8080/"
        },
        "id": "fTJKVVbdTdK2",
        "outputId": "7a89f418-b0c8-4865-bdc8-9163f4e83791"
      },
      "source": [
        "!wget http://setup.johnsnowlabs.com/colab.sh -O - | bash\n",
        "!pip install transformers\n",
        "!pip install spacy\n",
        "!pip install yake"
      ],
      "execution_count": null,
      "outputs": [
        {
          "output_type": "stream",
          "name": "stdout",
          "text": [
            "--2021-12-02 01:48:46--  http://setup.johnsnowlabs.com/colab.sh\n",
            "Resolving setup.johnsnowlabs.com (setup.johnsnowlabs.com)... 51.158.130.125\n",
            "Connecting to setup.johnsnowlabs.com (setup.johnsnowlabs.com)|51.158.130.125|:80... connected.\n",
            "HTTP request sent, awaiting response... 302 Found\n",
            "Location: https://setup.johnsnowlabs.com/colab.sh [following]\n",
            "--2021-12-02 01:48:46--  https://setup.johnsnowlabs.com/colab.sh\n",
            "Connecting to setup.johnsnowlabs.com (setup.johnsnowlabs.com)|51.158.130.125|:443... connected.\n",
            "HTTP request sent, awaiting response... 302 Moved Temporarily\n",
            "Location: https://raw.githubusercontent.com/JohnSnowLabs/spark-nlp/master/scripts/colab_setup.sh [following]\n",
            "--2021-12-02 01:48:46--  https://raw.githubusercontent.com/JohnSnowLabs/spark-nlp/master/scripts/colab_setup.sh\n",
            "Resolving raw.githubusercontent.com (raw.githubusercontent.com)... 185.199.108.133, 185.199.111.133, 185.199.110.133, ...\n",
            "Connecting to raw.githubusercontent.com (raw.githubusercontent.com)|185.199.108.133|:443... connected.\n",
            "HTTP request sent, awaiting response... 200 OK\n",
            "Length: 1275 (1.2K) [text/plain]\n",
            "Saving to: ‘STDOUT’\n",
            "\n",
            "-                   100%[===================>]   1.25K  --.-KB/s    in 0s      \n",
            "\n",
            "2021-12-02 01:48:46 (40.1 MB/s) - written to stdout [1275/1275]\n",
            "\n",
            "setup Colab for PySpark 3.0.3 and Spark NLP 3.3.4\n",
            "Installing PySpark 3.0.3 and Spark NLP 3.3.4\n",
            "Requirement already satisfied: transformers in /usr/local/lib/python3.7/dist-packages (4.12.5)\n",
            "Requirement already satisfied: numpy>=1.17 in /usr/local/lib/python3.7/dist-packages (from transformers) (1.19.5)\n",
            "Requirement already satisfied: importlib-metadata in /usr/local/lib/python3.7/dist-packages (from transformers) (4.8.2)\n",
            "Requirement already satisfied: filelock in /usr/local/lib/python3.7/dist-packages (from transformers) (3.4.0)\n",
            "Requirement already satisfied: sacremoses in /usr/local/lib/python3.7/dist-packages (from transformers) (0.0.46)\n",
            "Requirement already satisfied: regex!=2019.12.17 in /usr/local/lib/python3.7/dist-packages (from transformers) (2019.12.20)\n",
            "Requirement already satisfied: packaging>=20.0 in /usr/local/lib/python3.7/dist-packages (from transformers) (21.3)\n",
            "Requirement already satisfied: tqdm>=4.27 in /usr/local/lib/python3.7/dist-packages (from transformers) (4.62.3)\n",
            "Requirement already satisfied: pyyaml>=5.1 in /usr/local/lib/python3.7/dist-packages (from transformers) (6.0)\n",
            "Requirement already satisfied: requests in /usr/local/lib/python3.7/dist-packages (from transformers) (2.23.0)\n",
            "Requirement already satisfied: tokenizers<0.11,>=0.10.1 in /usr/local/lib/python3.7/dist-packages (from transformers) (0.10.3)\n",
            "Requirement already satisfied: huggingface-hub<1.0,>=0.1.0 in /usr/local/lib/python3.7/dist-packages (from transformers) (0.2.0)\n",
            "Requirement already satisfied: typing-extensions>=3.7.4.3 in /usr/local/lib/python3.7/dist-packages (from huggingface-hub<1.0,>=0.1.0->transformers) (3.10.0.2)\n",
            "Requirement already satisfied: pyparsing!=3.0.5,>=2.0.2 in /usr/local/lib/python3.7/dist-packages (from packaging>=20.0->transformers) (3.0.6)\n",
            "Requirement already satisfied: zipp>=0.5 in /usr/local/lib/python3.7/dist-packages (from importlib-metadata->transformers) (3.6.0)\n",
            "Requirement already satisfied: idna<3,>=2.5 in /usr/local/lib/python3.7/dist-packages (from requests->transformers) (2.10)\n",
            "Requirement already satisfied: chardet<4,>=3.0.2 in /usr/local/lib/python3.7/dist-packages (from requests->transformers) (3.0.4)\n",
            "Requirement already satisfied: certifi>=2017.4.17 in /usr/local/lib/python3.7/dist-packages (from requests->transformers) (2021.10.8)\n",
            "Requirement already satisfied: urllib3!=1.25.0,!=1.25.1,<1.26,>=1.21.1 in /usr/local/lib/python3.7/dist-packages (from requests->transformers) (1.24.3)\n",
            "Requirement already satisfied: six in /usr/local/lib/python3.7/dist-packages (from sacremoses->transformers) (1.15.0)\n",
            "Requirement already satisfied: joblib in /usr/local/lib/python3.7/dist-packages (from sacremoses->transformers) (1.1.0)\n",
            "Requirement already satisfied: click in /usr/local/lib/python3.7/dist-packages (from sacremoses->transformers) (7.1.2)\n",
            "Requirement already satisfied: spacy in /usr/local/lib/python3.7/dist-packages (2.2.4)\n",
            "Requirement already satisfied: wasabi<1.1.0,>=0.4.0 in /usr/local/lib/python3.7/dist-packages (from spacy) (0.8.2)\n",
            "Requirement already satisfied: tqdm<5.0.0,>=4.38.0 in /usr/local/lib/python3.7/dist-packages (from spacy) (4.62.3)\n",
            "Requirement already satisfied: setuptools in /usr/local/lib/python3.7/dist-packages (from spacy) (57.4.0)\n",
            "Requirement already satisfied: blis<0.5.0,>=0.4.0 in /usr/local/lib/python3.7/dist-packages (from spacy) (0.4.1)\n",
            "Requirement already satisfied: plac<1.2.0,>=0.9.6 in /usr/local/lib/python3.7/dist-packages (from spacy) (1.1.3)\n",
            "Requirement already satisfied: cymem<2.1.0,>=2.0.2 in /usr/local/lib/python3.7/dist-packages (from spacy) (2.0.6)\n",
            "Requirement already satisfied: requests<3.0.0,>=2.13.0 in /usr/local/lib/python3.7/dist-packages (from spacy) (2.23.0)\n",
            "Requirement already satisfied: murmurhash<1.1.0,>=0.28.0 in /usr/local/lib/python3.7/dist-packages (from spacy) (1.0.6)\n",
            "Requirement already satisfied: catalogue<1.1.0,>=0.0.7 in /usr/local/lib/python3.7/dist-packages (from spacy) (1.0.0)\n",
            "Requirement already satisfied: preshed<3.1.0,>=3.0.2 in /usr/local/lib/python3.7/dist-packages (from spacy) (3.0.6)\n",
            "Requirement already satisfied: numpy>=1.15.0 in /usr/local/lib/python3.7/dist-packages (from spacy) (1.19.5)\n",
            "Requirement already satisfied: thinc==7.4.0 in /usr/local/lib/python3.7/dist-packages (from spacy) (7.4.0)\n",
            "Requirement already satisfied: srsly<1.1.0,>=1.0.2 in /usr/local/lib/python3.7/dist-packages (from spacy) (1.0.5)\n",
            "Requirement already satisfied: importlib-metadata>=0.20 in /usr/local/lib/python3.7/dist-packages (from catalogue<1.1.0,>=0.0.7->spacy) (4.8.2)\n",
            "Requirement already satisfied: typing-extensions>=3.6.4 in /usr/local/lib/python3.7/dist-packages (from importlib-metadata>=0.20->catalogue<1.1.0,>=0.0.7->spacy) (3.10.0.2)\n",
            "Requirement already satisfied: zipp>=0.5 in /usr/local/lib/python3.7/dist-packages (from importlib-metadata>=0.20->catalogue<1.1.0,>=0.0.7->spacy) (3.6.0)\n",
            "Requirement already satisfied: chardet<4,>=3.0.2 in /usr/local/lib/python3.7/dist-packages (from requests<3.0.0,>=2.13.0->spacy) (3.0.4)\n",
            "Requirement already satisfied: idna<3,>=2.5 in /usr/local/lib/python3.7/dist-packages (from requests<3.0.0,>=2.13.0->spacy) (2.10)\n",
            "Requirement already satisfied: urllib3!=1.25.0,!=1.25.1,<1.26,>=1.21.1 in /usr/local/lib/python3.7/dist-packages (from requests<3.0.0,>=2.13.0->spacy) (1.24.3)\n",
            "Requirement already satisfied: certifi>=2017.4.17 in /usr/local/lib/python3.7/dist-packages (from requests<3.0.0,>=2.13.0->spacy) (2021.10.8)\n",
            "Requirement already satisfied: yake in /usr/local/lib/python3.7/dist-packages (0.4.8)\n",
            "Requirement already satisfied: networkx in /usr/local/lib/python3.7/dist-packages (from yake) (2.6.3)\n",
            "Requirement already satisfied: click>=6.0 in /usr/local/lib/python3.7/dist-packages (from yake) (7.1.2)\n",
            "Requirement already satisfied: numpy in /usr/local/lib/python3.7/dist-packages (from yake) (1.19.5)\n",
            "Requirement already satisfied: jellyfish in /usr/local/lib/python3.7/dist-packages (from yake) (0.8.9)\n",
            "Requirement already satisfied: segtok in /usr/local/lib/python3.7/dist-packages (from yake) (1.5.10)\n",
            "Requirement already satisfied: tabulate in /usr/local/lib/python3.7/dist-packages (from yake) (0.8.9)\n",
            "Requirement already satisfied: regex in /usr/local/lib/python3.7/dist-packages (from segtok->yake) (2019.12.20)\n"
          ]
        }
      ]
    },
    {
      "cell_type": "code",
      "metadata": {
        "id": "8vvFQVNrTqfh"
      },
      "source": [
        ""
      ],
      "execution_count": null,
      "outputs": []
    },
    {
      "cell_type": "code",
      "metadata": {
        "id": "wN7irdlETtis"
      },
      "source": [
        "import pickle\n",
        "import sparknlp\n",
        "import pandas as pd\n",
        "from glob import glob\n",
        "from pyspark.sql import SparkSession\n",
        "from pyspark.sql.functions import month, year, concat, min, max, lower, udf\n",
        "from pyspark.sql.types import IntegerType\n",
        "\n",
        "from sparknlp.base import *\n",
        "from sparknlp.annotator import *\n",
        "from sparknlp.common import *\n",
        "from pyspark.ml.feature import VectorAssembler\n",
        "\n",
        "from sklearn.linear_model import LogisticRegression\n",
        "from sklearn.metrics import classification_report, accuracy_score, confusion_matrix, f1_score, precision_score, recall_score\n",
        "\n",
        "spark = sparknlp.start()\n",
        "spark = SparkSession.builder \\\n",
        "    .appName(\"Spark NLP\")\\\n",
        "    .master(\"local[4]\")\\\n",
        "    .config(\"spark.driver.memory\",\"16G\")\\\n",
        "    .config(\"spark.driver.maxResultSize\", \"0\") \\\n",
        "    .config(\"spark.kryoserializer.buffer.max\", \"2000M\")\\\n",
        "    .config(\"spark.jars.packages\", \"com.johnsnowlabs.nlp:spark-nlp_2.12:3.3.2\")\\\n",
        "    .getOrCreate()"
      ],
      "execution_count": null,
      "outputs": []
    },
    {
      "cell_type": "code",
      "metadata": {
        "id": "2LfNSP1VT27O"
      },
      "source": [
        "trending_news = spark.read.json('/content/drive/MyDrive/news_keywords_count.json')\n",
        "trending_view_count = 10000\n",
        "\n",
        "fp = [f for f in glob('/content/drive/**', recursive=True) if 'youtube_clean_' in f and '.json' in f][0]\n",
        "df = spark.read.json(fp)\n",
        "df = df.filter( (df.views>0) )\n",
        "df = df.withColumn('label', (df.views>trending_view_count) )\n",
        "df = df.withColumn('label', df.label.cast(\"integer\") )\n",
        "df = df.withColumn('year', year(df.publish_date_new))\n",
        "df = df.withColumn('month', month(df.publish_date_new))\n",
        "df = df.withColumn('year_month', concat(df.year,df.month))"
      ],
      "execution_count": null,
      "outputs": []
    },
    {
      "cell_type": "markdown",
      "metadata": {
        "id": "e6x-NLhuURwW"
      },
      "source": [
        "1) Add combination painting tranding news on df\n",
        "2) Add other features data"
      ]
    },
    {
      "cell_type": "code",
      "metadata": {
        "colab": {
          "base_uri": "https://localhost:8080/"
        },
        "id": "mRnkKX5dUXtn",
        "outputId": "10ef754b-865d-4f6a-f017-9b8e8404baee"
      },
      "source": [
        "trending_news.show(3)"
      ],
      "execution_count": null,
      "outputs": [
        {
          "output_type": "stream",
          "name": "stdout",
          "text": [
            "+------------------+-----+----------+\n",
            "|               col|count|year_month|\n",
            "+------------------+-----+----------+\n",
            "|benoit coeure said|    5|     20196|\n",
            "| republican senate|   11|     20162|\n",
            "|   united airlines|  208|     20174|\n",
            "+------------------+-----+----------+\n",
            "only showing top 3 rows\n",
            "\n"
          ]
        }
      ]
    },
    {
      "cell_type": "code",
      "metadata": {
        "colab": {
          "base_uri": "https://localhost:8080/"
        },
        "id": "ZVpffB0xGI93",
        "outputId": "ee64ee3c-c765-4285-814c-c4bda473b885"
      },
      "source": [
        "df.show(3)"
      ],
      "execution_count": null,
      "outputs": [
        {
          "output_type": "stream",
          "name": "stdout",
          "text": [
            "+------+--------------+--------------------+--------------------+--------------------+-------------+------------+--------------+---------+----------+--------------------+-----------------+------+--------------------+----------+-----------------+------------------+----------+----------------+---------+--------------------+--------------------+--------------------+--------+---------+----------+--------------------+-----+----+-----+----------+\n",
            "|   _c0|age_restricted|              author|             channel|         description|duration_long|duration_med|duration_short|has_music|has_sounds|            keywords|language_detected|length|            metadata|n_keywords|n_posts_by_author|n_posts_by_channel|post_covid|publish_date_new|   rating|         stream_info|               title|          transcript|   views|views_cat|views_high|           watch_url|label|year|month|year_month|\n",
            "+------+--------------+--------------------+--------------------+--------------------+-------------+------------+--------------+---------+----------+--------------------+-----------------+------+--------------------+----------+-----------------+------------------+----------+----------------+---------+--------------------+--------------------+--------------------+--------+---------+----------+--------------------+-----+----+-----+----------+\n",
            "|353340|         false|New Anatomy and P...|UC-0oTYwPd8vhvaLV...|Anatomy and Physi...|            1|           0|             0|      0.0|       0.0|anatomy|respirato...|               en|2839.0|                  []|        14|                1|                 1|         0|      2015-11-23|4.5210357|[<Stream: itag=\"1...|Anatomy and Physi...|hi welcome back t...|421552.0|        3|         1|https://youtube.c...|    1|2015|   11|    201511|\n",
            "|244643|         false|           Cute Paws|UC-3bvILLBfUfkgWu...|sunset lover,suns...|            0|           0|             1|      0.0|       0.0|sunset lover|suns...|               af|  16.0|                  []|        22|                1|                 1|         1|      2021-10-21|      0.0|[<Stream: itag=\"1...|Gorgeous Sunset A...|                null|    11.0|        1|         0|https://youtube.c...|    0|2021|   10|    202110|\n",
            "|228382|         false|                MOSG|UC-7Pbk3YQDfAFUAx...|Subscribe for mor...|            0|           0|             1|      1.0|       1.0|mosg|millennials ...|               en| 562.0|[{\"Song\": \"In His...|        17|                1|                 1|         1|      2021-05-13|4.8953724|[<Stream: itag=\"1...|Judging YOUR Resu...|let's try to to b...| 21335.0|        3|         1|https://youtube.c...|    1|2021|    5|     20215|\n",
            "+------+--------------+--------------------+--------------------+--------------------+-------------+------------+--------------+---------+----------+--------------------+-----------------+------+--------------------+----------+-----------------+------------------+----------+----------------+---------+--------------------+--------------------+--------------------+--------+---------+----------+--------------------+-----+----+-----+----------+\n",
            "only showing top 3 rows\n",
            "\n"
          ]
        }
      ]
    },
    {
      "cell_type": "code",
      "metadata": {
        "id": "qdrnLBw6KKXF"
      },
      "source": [
        "from pyspark.sql.window import Window\n",
        "from pyspark.sql.functions import rank, col\n",
        "\n",
        "window = Window.partitionBy(trending_news['year_month']).orderBy(trending_news['count'].desc())\n",
        "\n",
        "trending_news_ranked = trending_news.select('*', rank().over(window).alias('rank')).filter(col('rank') <= 5) "
      ],
      "execution_count": null,
      "outputs": []
    },
    {
      "cell_type": "code",
      "metadata": {
        "colab": {
          "base_uri": "https://localhost:8080/"
        },
        "id": "rothRQvuKK_5",
        "outputId": "5dc53908-9322-4894-900a-005db8a63e75"
      },
      "source": [
        "trending_news_ranked.show(10)"
      ],
      "execution_count": null,
      "outputs": [
        {
          "output_type": "stream",
          "name": "stdout",
          "text": [
            "+--------------------+-----+----------+----+\n",
            "|                 col|count|year_month|rank|\n",
            "+--------------------+-----+----------+----+\n",
            "|            new york| 1398|     20183|   1|\n",
            "|       united states| 1375|     20183|   2|\n",
            "|         white house| 1160|     20183|   3|\n",
            "|        donald trump| 1114|     20183|   4|\n",
            "|beijing headline ...|  694|     20183|   5|\n",
            "|            new york| 1539|     20175|   1|\n",
            "|         white house| 1313|     20175|   2|\n",
            "|        donald trump| 1131|     20175|   3|\n",
            "|       united states| 1075|     20175|   4|\n",
            "|president donald ...|  652|     20175|   5|\n",
            "+--------------------+-----+----------+----+\n",
            "only showing top 10 rows\n",
            "\n"
          ]
        }
      ]
    },
    {
      "cell_type": "code",
      "metadata": {
        "id": "Zm7oTc5ZKLc9"
      },
      "source": [
        "tnr1 = trending_news_ranked.filter(trending_news_ranked.rank==1).select(['year_month','col']).withColumnRenamed('col','trending_1')\n",
        "tnr2 = trending_news_ranked.filter(trending_news_ranked.rank==2).select(['year_month','col']).withColumnRenamed('col','trending_2')\n",
        "tnr3 = trending_news_ranked.filter(trending_news_ranked.rank==3).select(['year_month','col']).withColumnRenamed('col','trending_3')\n",
        "tnr4 = trending_news_ranked.filter(trending_news_ranked.rank==4).select(['year_month','col']).withColumnRenamed('col','trending_4')\n",
        "tnr5 = trending_news_ranked.filter(trending_news_ranked.rank==5).select(['year_month','col']).withColumnRenamed('col','trending_5')"
      ],
      "execution_count": null,
      "outputs": []
    },
    {
      "cell_type": "code",
      "metadata": {
        "id": "IY3HOdVgdBEG"
      },
      "source": [
        "tnr_combined = tnr1.join(\n",
        "    tnr2, on='year_month', how='outer').join(\n",
        "        tnr3, on='year_month', how='outer').join(\n",
        "            tnr4, on='year_month', how='outer').join(\n",
        "                tnr5, on='year_month', how='outer')\n",
        "            \n",
        "tnr_combined = tnr_combined.withColumn(\"year_month\", tnr_combined[\"year_month\"].cast(IntegerType()))"
      ],
      "execution_count": null,
      "outputs": []
    },
    {
      "cell_type": "code",
      "metadata": {
        "colab": {
          "base_uri": "https://localhost:8080/"
        },
        "id": "xyCcFEN8eWPS",
        "outputId": "643a904b-de34-437b-9e46-14ca7a9900ee"
      },
      "source": [
        "tnr_combined.select(min('year_month')).collect()[0]"
      ],
      "execution_count": null,
      "outputs": [
        {
          "output_type": "execute_result",
          "data": {
            "text/plain": [
              "Row(min(year_month)=20161)"
            ]
          },
          "metadata": {},
          "execution_count": 31
        }
      ]
    },
    {
      "cell_type": "code",
      "metadata": {
        "colab": {
          "base_uri": "https://localhost:8080/"
        },
        "id": "Gu-ImTPVidje",
        "outputId": "d395b7b7-c471-4281-ece7-1d2553c9643f"
      },
      "source": [
        "tnr_combined.select(max('year_month')).collect()[0]"
      ],
      "execution_count": null,
      "outputs": [
        {
          "output_type": "execute_result",
          "data": {
            "text/plain": [
              "Row(max(year_month)=201812)"
            ]
          },
          "metadata": {},
          "execution_count": 32
        }
      ]
    },
    {
      "cell_type": "code",
      "metadata": {
        "colab": {
          "base_uri": "https://localhost:8080/"
        },
        "id": "G0kadzcvh7hy",
        "outputId": "45e29955-9364-4404-c239-dbe7df52b3e5"
      },
      "source": [
        "tnr_combined.filter(tnr_combined.year_month==201812).show()"
      ],
      "execution_count": null,
      "outputs": [
        {
          "output_type": "stream",
          "name": "stdout",
          "text": [
            "+----------+----------+-------------+------------+-----------+--------------------+\n",
            "|year_month|trending_1|   trending_2|  trending_3| trending_4|          trending_5|\n",
            "+----------+----------+-------------+------------+-----------+--------------------+\n",
            "|    201812|  new york|united states|donald trump|white house|      european union|\n",
            "|    201812|  new york|united states|donald trump|white house|president donald ...|\n",
            "+----------+----------+-------------+------------+-----------+--------------------+\n",
            "\n"
          ]
        }
      ]
    },
    {
      "cell_type": "code",
      "metadata": {
        "id": "Hd11D76Vdn56"
      },
      "source": [
        "df_joined = df.join(tnr_combined, on='year_month', how='inner')"
      ],
      "execution_count": null,
      "outputs": []
    },
    {
      "cell_type": "code",
      "metadata": {
        "colab": {
          "base_uri": "https://localhost:8080/"
        },
        "id": "ufJjIOJ0jFnB",
        "outputId": "c75899cc-014c-4426-8e7c-e5e76fc5a1f8"
      },
      "source": [
        "df_joined.count()"
      ],
      "execution_count": null,
      "outputs": [
        {
          "output_type": "execute_result",
          "data": {
            "text/plain": [
              "89079"
            ]
          },
          "metadata": {},
          "execution_count": 35
        }
      ]
    },
    {
      "cell_type": "code",
      "metadata": {
        "colab": {
          "base_uri": "https://localhost:8080/"
        },
        "id": "N09jALMDjXTd",
        "outputId": "617e9e21-d14b-4854-e453-947cdbb0bc33"
      },
      "source": [
        "df_joined.show(3)"
      ],
      "execution_count": null,
      "outputs": [
        {
          "output_type": "stream",
          "name": "stdout",
          "text": [
            "+----------+------+--------------+--------------------+--------------------+--------------------+-------------+------------+--------------+---------+----------+--------+-----------------+------+--------------------+----------+-----------------+------------------+----------+----------------+------+--------------------+--------------------+--------------------+------+---------+----------+--------------------+-----+----+-----+-------------+----------+------------+-----------+--------------------+\n",
            "|year_month|   _c0|age_restricted|              author|             channel|         description|duration_long|duration_med|duration_short|has_music|has_sounds|keywords|language_detected|length|            metadata|n_keywords|n_posts_by_author|n_posts_by_channel|post_covid|publish_date_new|rating|         stream_info|               title|          transcript| views|views_cat|views_high|           watch_url|label|year|month|   trending_1|trending_2|  trending_3| trending_4|          trending_5|\n",
            "+----------+------+--------------+--------------------+--------------------+--------------------+-------------+------------+--------------+---------+----------+--------+-----------------+------+--------------------+----------+-----------------+------------------+----------+----------------+------+--------------------+--------------------+--------------------+------+---------+----------+--------------------+-----+----+-----+-------------+----------+------------+-----------+--------------------+\n",
            "|     20195|121261|         false|           Sky Study|UC-Jc7Cb_Mo-yXzWO...|                null|            0|           1|             0|      0.0|       0.0|    null|               de| 641.0|                  []|         0|                1|                 1|         0|      2019-05-12|4.8125|[<Stream: itag=\"1...|SOLVED QUESTION P...|                null|7439.0|        2|         0|https://youtube.c...|    0|2019|    5|united states|  new york|donald trump|white house|president donald ...|\n",
            "|     20195|193437|         false|Gramophonic Reevo...|UC2rzB-6s_wPlLbAn...|Count Basie & His...|            0|           0|             1|      1.0|       0.0|    null|               de| 174.0|[{\"Song\": \"Basie ...|         0|               10|                10|         0|      2019-05-05|   5.0|[<Stream: itag=\"1...|Count Basie & His...|                null|  28.0|        1|         0|https://youtube.c...|    0|2019|    5|united states|  new york|donald trump|white house|president donald ...|\n",
            "|     20195|205737|         false|       Boots O'Riley|UC3SUbVBTqd2OYG8s...|Bisco Inferno • R...|            0|           1|             0|      0.0|       1.0| 5/25/19|               en| 680.0|                  []|         2|                1|                 1|         0|      2019-05-29|  4.75|[<Stream: itag=\"1...|The Disco Biscuit...|we said by my sid...|2102.0|        2|         0|https://youtube.c...|    0|2019|    5|united states|  new york|donald trump|white house|president donald ...|\n",
            "+----------+------+--------------+--------------------+--------------------+--------------------+-------------+------------+--------------+---------+----------+--------+-----------------+------+--------------------+----------+-----------------+------------------+----------+----------------+------+--------------------+--------------------+--------------------+------+---------+----------+--------------------+-----+----+-----+-------------+----------+------------+-----------+--------------------+\n",
            "only showing top 3 rows\n",
            "\n"
          ]
        }
      ]
    },
    {
      "cell_type": "code",
      "metadata": {
        "id": "ewl4udwPn_Eu"
      },
      "source": [
        "df_joined = df_joined.withColumn(\n",
        "    'on_trend_title', \n",
        "    lower( df_joined.title ).contains( \n",
        "        df_joined.trending_1 )|lower( df_joined.title ).contains( \n",
        "            df_joined.trending_2 )|lower( df_joined.title ).contains( \n",
        "                df_joined.trending_3 )|lower( df_joined.title ).contains( \n",
        "                    df_joined.trending_4 )|lower( df_joined.title ).contains( \n",
        "                        df_joined.trending_5 )\n",
        ")\n",
        "\n",
        "df_joined = df_joined.withColumn(\n",
        "    'on_trend_transcript', \n",
        "    lower( df_joined.transcript ).contains( \n",
        "        df_joined.trending_1 )|lower( df_joined.transcript ).contains( \n",
        "            df_joined.trending_2 )|lower( df_joined.transcript ).contains( \n",
        "                df_joined.trending_3 )|lower( df_joined.transcript ).contains( \n",
        "                    df_joined.trending_4 )|lower( df_joined.transcript ).contains( \n",
        "                        df_joined.trending_5 )\n",
        ")\n",
        "                    \n",
        "df_joined = df_joined.withColumn(\n",
        "    'on_trend_description', \n",
        "    lower( df_joined.description ).contains( \n",
        "        df_joined.trending_1 )|lower( df_joined.description ).contains( \n",
        "            df_joined.trending_2 )|lower( df_joined.description ).contains( \n",
        "                df_joined.trending_3 )|lower( df_joined.description ).contains( \n",
        "                    df_joined.trending_4 )|lower( df_joined.description ).contains( \n",
        "                        df_joined.trending_5 )\n",
        ")"
      ],
      "execution_count": null,
      "outputs": []
    },
    {
      "cell_type": "code",
      "metadata": {
        "id": "CfXE6ltoT9hQ"
      },
      "source": [
        "train, test = df_joined.randomSplit([0.8, 0.2])"
      ],
      "execution_count": null,
      "outputs": []
    },
    {
      "cell_type": "code",
      "metadata": {
        "colab": {
          "base_uri": "https://localhost:8080/"
        },
        "id": "HxrwP3V_UeAl",
        "outputId": "5513ce56-00d4-46b3-f20e-e8938f34b4bf"
      },
      "source": [
        "document_assembler1 = DocumentAssembler()\\\n",
        "  .setInputCol(\"transcript\")\\\n",
        "  .setOutputCol(\"document\")\n",
        " \n",
        "word_embeddings1 = BertSentenceEmbeddings.pretrained('sent_small_bert_L8_512', 'en')\\\n",
        "  .setInputCols([\"document\"])\\\n",
        "  .setOutputCol(\"transcript_embeddings\")\n",
        "\n",
        "document_assembler2 = DocumentAssembler()\\\n",
        "  .setInputCol(\"title\")\\\n",
        "  .setOutputCol(\"document\")\n",
        " \n",
        "word_embeddings2 = BertSentenceEmbeddings.pretrained('sent_small_bert_L8_512', 'en')\\\n",
        "  .setInputCols([\"document\"])\\\n",
        "  .setOutputCol(\"title_embeddings\")\n",
        "\n",
        "document_assembler3 = DocumentAssembler()\\\n",
        "  .setInputCol(\"description\")\\\n",
        "  .setOutputCol(\"document\")\n",
        " \n",
        "word_embeddings3 = BertSentenceEmbeddings.pretrained('sent_small_bert_L8_512', 'en')\\\n",
        "  .setInputCols([\"document\"])\\\n",
        "  .setOutputCol(\"description_embeddings\")\n",
        "\n",
        "\n",
        "clf1 = ClassifierDLApproach()\\\n",
        "  .setInputCols('transcript_embeddings')\\\n",
        "  .setOutputCol(\"prediction\")\\\n",
        "  .setLabelColumn(\"label\")\\\n",
        "  .setMaxEpochs(5)\\\n",
        "  .setEnableOutputLogs(True)\n",
        "\n",
        "clf2 = ClassifierDLApproach()\\\n",
        "  .setInputCols('title_embeddings')\\\n",
        "  .setOutputCol(\"prediction\")\\\n",
        "  .setLabelColumn(\"label\")\\\n",
        "  .setMaxEpochs(5)\\\n",
        "  .setEnableOutputLogs(True)\n",
        "\n",
        "clf3 = ClassifierDLApproach()\\\n",
        "  .setInputCols('description_embeddings')\\\n",
        "  .setOutputCol(\"prediction\")\\\n",
        "  .setLabelColumn(\"label\")\\\n",
        "  .setMaxEpochs(5)\\\n",
        "  .setEnableOutputLogs(True)\n",
        "\n",
        "pipeline1 = Pipeline().setStages(\n",
        "  [\n",
        "    document_assembler1,\n",
        "    word_embeddings1,\n",
        "    clf1,\n",
        "  ]\n",
        ")\n",
        "pipeline2 = Pipeline().setStages(\n",
        "  [\n",
        "    document_assembler2,\n",
        "    word_embeddings2,\n",
        "    clf2,\n",
        "  ]\n",
        ")\n",
        "pipeline3 = Pipeline().setStages(\n",
        "  [\n",
        "    document_assembler3,\n",
        "    word_embeddings3,\n",
        "    clf3,\n",
        "  ]\n",
        ")"
      ],
      "execution_count": null,
      "outputs": [
        {
          "output_type": "stream",
          "name": "stdout",
          "text": [
            "sent_small_bert_L8_512 download started this may take some time.\n",
            "Approximate size to download 149.1 MB\n",
            "[OK!]\n",
            "sent_small_bert_L8_512 download started this may take some time.\n",
            "Approximate size to download 149.1 MB\n",
            "[OK!]\n",
            "sent_small_bert_L8_512 download started this may take some time.\n",
            "Approximate size to download 149.1 MB\n",
            "[OK!]\n"
          ]
        }
      ]
    },
    {
      "cell_type": "code",
      "metadata": {
        "id": "QSPerHy7Ug5z"
      },
      "source": [
        "cols = ['transcript','label' ]\n",
        "model1 = pipeline1.fit(train.select( cols ) )\n",
        "train_pred1 = model1.transform(train.select(cols) )\n",
        "test_pred1 = model1.transform(test.select(cols))\n",
        "\n",
        "cols = ['title','label' ]\n",
        "model2 = pipeline2.fit(train.select( cols ) )\n",
        "train_pred2 = model2.transform(train.select(cols) )\n",
        "test_pred2 = model2.transform(test.select(cols))\n",
        "\n",
        "cols = ['description','label' ]\n",
        "model3 = pipeline3.fit(train.select( cols ) )\n",
        "train_pred3 = model3.transform(train.select(cols) )\n",
        "test_pred3 = model3.transform(test.select(cols))"
      ],
      "execution_count": 40,
      "outputs": []
    },
    {
      "cell_type": "code",
      "metadata": {
        "id": "sLhyxxaBrFMY",
        "colab": {
          "base_uri": "https://localhost:8080/"
        },
        "outputId": "d8ac25d1-af0c-4cf1-8133-9181c78bf679"
      },
      "source": [
        "train.show(2)"
      ],
      "execution_count": 41,
      "outputs": [
        {
          "output_type": "stream",
          "name": "stdout",
          "text": [
            "+----------+---+--------------+----------------+--------------------+--------------------+-------------+------------+--------------+---------+----------+--------------------+-----------------+------+--------+----------+-----------------+------------------+----------+----------------+---------+--------------------+--------------------+--------------------+--------+---------+----------+--------------------+-----+----+-----+-------------+----------+------------+-----------+--------------------+--------------+-------------------+--------------------+\n",
            "|year_month|_c0|age_restricted|          author|             channel|         description|duration_long|duration_med|duration_short|has_music|has_sounds|            keywords|language_detected|length|metadata|n_keywords|n_posts_by_author|n_posts_by_channel|post_covid|publish_date_new|   rating|         stream_info|               title|          transcript|   views|views_cat|views_high|           watch_url|label|year|month|   trending_1|trending_2|  trending_3| trending_4|          trending_5|on_trend_title|on_trend_transcript|on_trend_description|\n",
            "+----------+---+--------------+----------------+--------------------+--------------------+-------------+------------+--------------+---------+----------+--------------------+-----------------+------+--------+----------+-----------------+------------------+----------+----------------+---------+--------------------+--------------------+--------------------+--------+---------+----------+--------------------+-----+----+-----+-------------+----------+------------+-----------+--------------------+--------------+-------------------+--------------------+\n",
            "|     20195|669|         false| Learn to Invest|UCSglJMvX-zSgv3PE...|Free Excel DCF Te...|            0|           1|             0|      0.0|       0.0|Investment Ideas|...|               en|1652.0|      []|        24|                3|                 3|         0|      2019-05-28| 4.962666|[<Stream: itag=\"1...|Discounted Cash F...|Hi I'm Jimmy in t...|449776.0|        3|         1|https://youtube.c...|    1|2019|    5|united states|  new york|donald trump|white house|president donald ...|         false|              false|               false|\n",
            "|     20195|734|         false|learnelectronics|UCSRTiJhBE5GsP-1f...|Can Tip Tinner re...|            0|           0|             1|      0.0|       1.0|Can Tip Tinner re...|               en| 557.0|      []|         7|                1|                 1|         0|      2019-05-10|4.6351933|[<Stream: itag=\"1...|Can Tip Tinner re...|hey what's happen...| 47969.0|        3|         1|https://youtube.c...|    1|2019|    5|united states|  new york|donald trump|white house|president donald ...|         false|              false|               false|\n",
            "+----------+---+--------------+----------------+--------------------+--------------------+-------------+------------+--------------+---------+----------+--------------------+-----------------+------+--------+----------+-----------------+------------------+----------+----------------+---------+--------------------+--------------------+--------------------+--------+---------+----------+--------------------+-----+----+-----+-------------+----------+------------+-----------+--------------------+--------------+-------------------+--------------------+\n",
            "only showing top 2 rows\n",
            "\n"
          ]
        }
      ]
    },
    {
      "cell_type": "code",
      "metadata": {
        "id": "xuOWuCtpUirQ"
      },
      "source": [
        "def compile_final_model_inputs(pred1, pred2, pred3, feature_df):\n",
        "    pred1_collection = [i[0][0] for i in pred1.select('prediction.result').collect()]\n",
        "    pred2_collection = [i[0][0] for i in pred2.select('prediction.result').collect()]\n",
        "    pred3_collection = [i[0][0] for i in pred3.select('prediction.result').collect()]\n",
        "    other_features = feature_df.select(\n",
        "        [\n",
        "            'age_restricted','duration_long','duration_med','duration_short','has_music','has_sounds',\n",
        "            'n_keywords', 'n_posts_by_author','n_posts_by_channel','post_covid', 'rating', \n",
        "            'on_trend_title', 'on_trend_description','on_trend_transcript'\n",
        "        ]\n",
        "    ).toPandas()\n",
        "    input_df = pd.DataFrame()\n",
        "    input_df['transcript_prediction'] = pred1_collection\n",
        "    input_df['title_prediction'] = pred2_collection\n",
        "    input_df['description_prediction'] = pred3_collection\n",
        "    input_df = pd.concat([input_df, other_features], axis=1)\n",
        "    return input_df"
      ],
      "execution_count": 42,
      "outputs": []
    },
    {
      "cell_type": "code",
      "metadata": {
        "id": "oEf-evwVUkjJ"
      },
      "source": [
        "input_df_train = compile_final_model_inputs(train_pred1, train_pred2, train_pred3, train)\n",
        "input_df_test = compile_final_model_inputs(test_pred1, test_pred2, test_pred3, test)"
      ],
      "execution_count": null,
      "outputs": []
    },
    {
      "cell_type": "code",
      "metadata": {
        "id": "MWBTNjVoUng0"
      },
      "source": [
        "train_y = [i[0] for i in train.select('label').collect()]\n",
        "test_y = [i[0] for i in test.select('label').collect()]"
      ],
      "execution_count": null,
      "outputs": []
    },
    {
      "cell_type": "code",
      "metadata": {
        "id": "5fon1koxeu6y"
      },
      "source": [
        ""
      ],
      "execution_count": null,
      "outputs": []
    },
    {
      "cell_type": "code",
      "metadata": {
        "id": "idt0DTVoJ7if"
      },
      "source": [
        "pickle.dump([input_df_train, input_df_test, train_y, test_y], open('/content/drive/MyDrive/bdp_project_final_train_test.p', mode='wb') )\n",
        "print('finished')"
      ],
      "execution_count": null,
      "outputs": []
    }
  ]
}