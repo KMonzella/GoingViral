{
  "nbformat": 4,
  "nbformat_minor": 0,
  "metadata": {
    "colab": {
      "name": "bdp_part3.ipynb",
      "provenance": [],
      "collapsed_sections": []
    },
    "kernelspec": {
      "name": "python3",
      "display_name": "Python 3"
    },
    "language_info": {
      "name": "python"
    }
  },
  "cells": [
    {
      "cell_type": "code",
      "metadata": {
        "id": "p6kZhRlzKdrJ",
        "colab": {
          "base_uri": "https://localhost:8080/"
        },
        "outputId": "95eacbf5-5e14-4b6c-f684-a732807c9f47"
      },
      "source": [
        "from google.colab import drive\n",
        "drive.mount('/content/drive')"
      ],
      "execution_count": 24,
      "outputs": [
        {
          "output_type": "stream",
          "name": "stdout",
          "text": [
            "Drive already mounted at /content/drive; to attempt to forcibly remount, call drive.mount(\"/content/drive\", force_remount=True).\n"
          ]
        }
      ]
    },
    {
      "cell_type": "code",
      "metadata": {
        "id": "pFgEGrjfLW9h",
        "colab": {
          "base_uri": "https://localhost:8080/"
        },
        "outputId": "15993d2b-03b1-4961-9cd1-67efe40db6b7"
      },
      "source": [
        "!wget http://setup.johnsnowlabs.com/colab.sh -O - | bash"
      ],
      "execution_count": 25,
      "outputs": [
        {
          "output_type": "stream",
          "name": "stdout",
          "text": [
            "--2021-12-03 22:19:59--  http://setup.johnsnowlabs.com/colab.sh\n",
            "Resolving setup.johnsnowlabs.com (setup.johnsnowlabs.com)... 51.158.130.125\n",
            "Connecting to setup.johnsnowlabs.com (setup.johnsnowlabs.com)|51.158.130.125|:80... connected.\n",
            "HTTP request sent, awaiting response... 302 Found\n",
            "Location: https://setup.johnsnowlabs.com/colab.sh [following]\n",
            "--2021-12-03 22:19:59--  https://setup.johnsnowlabs.com/colab.sh\n",
            "Connecting to setup.johnsnowlabs.com (setup.johnsnowlabs.com)|51.158.130.125|:443... connected.\n",
            "HTTP request sent, awaiting response... 302 Moved Temporarily\n",
            "Location: https://raw.githubusercontent.com/JohnSnowLabs/spark-nlp/master/scripts/colab_setup.sh [following]\n",
            "--2021-12-03 22:20:00--  https://raw.githubusercontent.com/JohnSnowLabs/spark-nlp/master/scripts/colab_setup.sh\n",
            "Resolving raw.githubusercontent.com (raw.githubusercontent.com)... 185.199.108.133, 185.199.110.133, 185.199.109.133, ...\n",
            "Connecting to raw.githubusercontent.com (raw.githubusercontent.com)|185.199.108.133|:443... connected.\n",
            "HTTP request sent, awaiting response... 200 OK\n",
            "Length: 1275 (1.2K) [text/plain]\n",
            "Saving to: ‘STDOUT’\n",
            "\n",
            "-                   100%[===================>]   1.25K  --.-KB/s    in 0s      \n",
            "\n",
            "2021-12-03 22:20:00 (50.9 MB/s) - written to stdout [1275/1275]\n",
            "\n",
            "setup Colab for PySpark 3.0.3 and Spark NLP 3.3.4\n",
            "Installing PySpark 3.0.3 and Spark NLP 3.3.4\n"
          ]
        }
      ]
    },
    {
      "cell_type": "code",
      "metadata": {
        "id": "YqdpoMuVKnNb"
      },
      "source": [
        "import pickle\n",
        "input_df_train, input_df_test, train_y, test_y = pickle.load(open('/content/drive/MyDrive/bdp_project_final_train_test.p', mode='rb'))"
      ],
      "execution_count": 26,
      "outputs": []
    },
    {
      "cell_type": "code",
      "metadata": {
        "id": "7BuS4n2DWbZx"
      },
      "source": [
        "for col in ['rating', 'duration_long','n_posts_by_author']:\n",
        "    input_df_train.drop(col, axis=1, inplace=True)\n",
        "    input_df_test.drop(col, axis=1, inplace=True)"
      ],
      "execution_count": 27,
      "outputs": []
    },
    {
      "cell_type": "code",
      "metadata": {
        "id": "vmsCxDcmXKp8"
      },
      "source": [
        "input_df_train.fillna(False, inplace=True)\n",
        "input_df_test.fillna(False, inplace=True)"
      ],
      "execution_count": 28,
      "outputs": []
    },
    {
      "cell_type": "code",
      "metadata": {
        "id": "o2QJB30POilp"
      },
      "source": [
        "def normalize(X):\n",
        "    for col in ['n_keywords', 'n_posts_by_channel']:\n",
        "        X[col] = (X[col]-X[col].mean() )/X[col].std()\n",
        "\n",
        "    return X"
      ],
      "execution_count": 29,
      "outputs": []
    },
    {
      "cell_type": "code",
      "metadata": {
        "id": "K5x_H3SZK717"
      },
      "source": [
        "from sklearn.metrics import classification_report, accuracy_score, confusion_matrix, f1_score, precision_score, recall_score\n",
        "\n",
        "def score(test_y, ypred_test_final):\n",
        "    print(confusion_matrix(test_y, ypred_test_final))\n",
        "    print(classification_report(test_y, ypred_test_final))\n",
        "    print('accuracy_score:  '+str(accuracy_score(test_y, ypred_test_final)))\n",
        "    print('f1_score:        '+str(f1_score(test_y, ypred_test_final)))\n",
        "    print('precision_score: '+str(precision_score(test_y, ypred_test_final)))\n",
        "    print('recall_score:    '+str(recall_score(test_y, ypred_test_final)))"
      ],
      "execution_count": 30,
      "outputs": []
    },
    {
      "cell_type": "code",
      "metadata": {
        "id": "1E5tQOg8KSBD"
      },
      "source": [
        "import pandas as pd\n",
        "from sklearn.linear_model import LogisticRegression\n",
        "\n",
        "lmod = LogisticRegression()\n",
        "lmod.fit(normalize(input_df_train), train_y)\n",
        "ypred_test_final = lmod.predict(normalize(input_df_test))"
      ],
      "execution_count": 31,
      "outputs": []
    },
    {
      "cell_type": "code",
      "metadata": {
        "id": "j-4zaDOAKX3m",
        "colab": {
          "base_uri": "https://localhost:8080/",
          "height": 749
        },
        "outputId": "19701145-1ed9-43ab-a169-132a4b9040c4"
      },
      "source": [
        "score(test_y, ypred_test_final)\n",
        "coefs = pd.DataFrame(lmod.coef_).T\n",
        "coefs.index = input_df_train.columns\n",
        "coefs.columns=['coef']\n",
        "coefs.sort_values('coef')"
      ],
      "execution_count": 32,
      "outputs": [
        {
          "output_type": "stream",
          "name": "stdout",
          "text": [
            "[[6832 2303]\n",
            " [3377 5357]]\n",
            "              precision    recall  f1-score   support\n",
            "\n",
            "           0       0.67      0.75      0.71      9135\n",
            "           1       0.70      0.61      0.65      8734\n",
            "\n",
            "    accuracy                           0.68     17869\n",
            "   macro avg       0.68      0.68      0.68     17869\n",
            "weighted avg       0.68      0.68      0.68     17869\n",
            "\n",
            "accuracy_score:  0.682131064972858\n",
            "f1_score:        0.6535317799194827\n",
            "precision_score: 0.6993472584856397\n",
            "recall_score:    0.6133501259445844\n"
          ]
        },
        {
          "output_type": "execute_result",
          "data": {
            "text/html": [
              "<div>\n",
              "<style scoped>\n",
              "    .dataframe tbody tr th:only-of-type {\n",
              "        vertical-align: middle;\n",
              "    }\n",
              "\n",
              "    .dataframe tbody tr th {\n",
              "        vertical-align: top;\n",
              "    }\n",
              "\n",
              "    .dataframe thead th {\n",
              "        text-align: right;\n",
              "    }\n",
              "</style>\n",
              "<table border=\"1\" class=\"dataframe\">\n",
              "  <thead>\n",
              "    <tr style=\"text-align: right;\">\n",
              "      <th></th>\n",
              "      <th>coef</th>\n",
              "    </tr>\n",
              "  </thead>\n",
              "  <tbody>\n",
              "    <tr>\n",
              "      <th>duration_short</th>\n",
              "      <td>-0.136131</td>\n",
              "    </tr>\n",
              "    <tr>\n",
              "      <th>on_trend_transcript</th>\n",
              "      <td>-0.013751</td>\n",
              "    </tr>\n",
              "    <tr>\n",
              "      <th>n_posts_by_channel</th>\n",
              "      <td>-0.000948</td>\n",
              "    </tr>\n",
              "    <tr>\n",
              "      <th>transcript_prediction</th>\n",
              "      <td>0.000000</td>\n",
              "    </tr>\n",
              "    <tr>\n",
              "      <th>title_prediction</th>\n",
              "      <td>0.000000</td>\n",
              "    </tr>\n",
              "    <tr>\n",
              "      <th>description_prediction</th>\n",
              "      <td>0.000000</td>\n",
              "    </tr>\n",
              "    <tr>\n",
              "      <th>post_covid</th>\n",
              "      <td>0.000000</td>\n",
              "    </tr>\n",
              "    <tr>\n",
              "      <th>has_sounds</th>\n",
              "      <td>0.214480</td>\n",
              "    </tr>\n",
              "    <tr>\n",
              "      <th>on_trend_description</th>\n",
              "      <td>0.258432</td>\n",
              "    </tr>\n",
              "    <tr>\n",
              "      <th>duration_med</th>\n",
              "      <td>0.382834</td>\n",
              "    </tr>\n",
              "    <tr>\n",
              "      <th>on_trend_title</th>\n",
              "      <td>0.675863</td>\n",
              "    </tr>\n",
              "    <tr>\n",
              "      <th>has_music</th>\n",
              "      <td>0.693419</td>\n",
              "    </tr>\n",
              "    <tr>\n",
              "      <th>n_keywords</th>\n",
              "      <td>0.810574</td>\n",
              "    </tr>\n",
              "    <tr>\n",
              "      <th>age_restricted</th>\n",
              "      <td>1.015940</td>\n",
              "    </tr>\n",
              "  </tbody>\n",
              "</table>\n",
              "</div>"
            ],
            "text/plain": [
              "                            coef\n",
              "duration_short         -0.136131\n",
              "on_trend_transcript    -0.013751\n",
              "n_posts_by_channel     -0.000948\n",
              "transcript_prediction   0.000000\n",
              "title_prediction        0.000000\n",
              "description_prediction  0.000000\n",
              "post_covid              0.000000\n",
              "has_sounds              0.214480\n",
              "on_trend_description    0.258432\n",
              "duration_med            0.382834\n",
              "on_trend_title          0.675863\n",
              "has_music               0.693419\n",
              "n_keywords              0.810574\n",
              "age_restricted          1.015940"
            ]
          },
          "metadata": {},
          "execution_count": 32
        }
      ]
    },
    {
      "cell_type": "code",
      "metadata": {
        "id": "HjTfA2oQfmOm"
      },
      "source": [
        "from sklearn.ensemble import RandomForestClassifier\n",
        "rf = RandomForestClassifier()\n",
        "rf.fit(input_df_train, train_y)\n",
        "ypred_test_final = rf.predict(input_df_test)\n"
      ],
      "execution_count": 33,
      "outputs": []
    },
    {
      "cell_type": "code",
      "metadata": {
        "colab": {
          "base_uri": "https://localhost:8080/",
          "height": 749
        },
        "id": "JE5KSvL0f_d8",
        "outputId": "fb47e90e-095b-432b-d372-5b0607e392b5"
      },
      "source": [
        "score(test_y, ypred_test_final)\n",
        "feature_importance = pd.DataFrame(rf.feature_importances_)\n",
        "feature_importance.index=input_df_train.columns\n",
        "feature_importance.columns=['feature_importance']\n",
        "feature_importance.sort_values('feature_importance', ascending=False)"
      ],
      "execution_count": 34,
      "outputs": [
        {
          "output_type": "stream",
          "name": "stdout",
          "text": [
            "[[7032 2103]\n",
            " [2950 5784]]\n",
            "              precision    recall  f1-score   support\n",
            "\n",
            "           0       0.70      0.77      0.74      9135\n",
            "           1       0.73      0.66      0.70      8734\n",
            "\n",
            "    accuracy                           0.72     17869\n",
            "   macro avg       0.72      0.72      0.72     17869\n",
            "weighted avg       0.72      0.72      0.72     17869\n",
            "\n",
            "accuracy_score:  0.717219766075326\n",
            "f1_score:        0.6959870043920341\n",
            "precision_score: 0.7333586915176873\n",
            "recall_score:    0.6622395237004809\n"
          ]
        },
        {
          "output_type": "execute_result",
          "data": {
            "text/html": [
              "<div>\n",
              "<style scoped>\n",
              "    .dataframe tbody tr th:only-of-type {\n",
              "        vertical-align: middle;\n",
              "    }\n",
              "\n",
              "    .dataframe tbody tr th {\n",
              "        vertical-align: top;\n",
              "    }\n",
              "\n",
              "    .dataframe thead th {\n",
              "        text-align: right;\n",
              "    }\n",
              "</style>\n",
              "<table border=\"1\" class=\"dataframe\">\n",
              "  <thead>\n",
              "    <tr style=\"text-align: right;\">\n",
              "      <th></th>\n",
              "      <th>feature_importance</th>\n",
              "    </tr>\n",
              "  </thead>\n",
              "  <tbody>\n",
              "    <tr>\n",
              "      <th>n_keywords</th>\n",
              "      <td>0.464228</td>\n",
              "    </tr>\n",
              "    <tr>\n",
              "      <th>n_posts_by_channel</th>\n",
              "      <td>0.430479</td>\n",
              "    </tr>\n",
              "    <tr>\n",
              "      <th>has_music</th>\n",
              "      <td>0.024741</td>\n",
              "    </tr>\n",
              "    <tr>\n",
              "      <th>duration_med</th>\n",
              "      <td>0.021787</td>\n",
              "    </tr>\n",
              "    <tr>\n",
              "      <th>duration_short</th>\n",
              "      <td>0.020966</td>\n",
              "    </tr>\n",
              "    <tr>\n",
              "      <th>has_sounds</th>\n",
              "      <td>0.017063</td>\n",
              "    </tr>\n",
              "    <tr>\n",
              "      <th>on_trend_transcript</th>\n",
              "      <td>0.008316</td>\n",
              "    </tr>\n",
              "    <tr>\n",
              "      <th>on_trend_description</th>\n",
              "      <td>0.005991</td>\n",
              "    </tr>\n",
              "    <tr>\n",
              "      <th>age_restricted</th>\n",
              "      <td>0.004149</td>\n",
              "    </tr>\n",
              "    <tr>\n",
              "      <th>on_trend_title</th>\n",
              "      <td>0.002280</td>\n",
              "    </tr>\n",
              "    <tr>\n",
              "      <th>transcript_prediction</th>\n",
              "      <td>0.000000</td>\n",
              "    </tr>\n",
              "    <tr>\n",
              "      <th>title_prediction</th>\n",
              "      <td>0.000000</td>\n",
              "    </tr>\n",
              "    <tr>\n",
              "      <th>description_prediction</th>\n",
              "      <td>0.000000</td>\n",
              "    </tr>\n",
              "    <tr>\n",
              "      <th>post_covid</th>\n",
              "      <td>0.000000</td>\n",
              "    </tr>\n",
              "  </tbody>\n",
              "</table>\n",
              "</div>"
            ],
            "text/plain": [
              "                        feature_importance\n",
              "n_keywords                        0.464228\n",
              "n_posts_by_channel                0.430479\n",
              "has_music                         0.024741\n",
              "duration_med                      0.021787\n",
              "duration_short                    0.020966\n",
              "has_sounds                        0.017063\n",
              "on_trend_transcript               0.008316\n",
              "on_trend_description              0.005991\n",
              "age_restricted                    0.004149\n",
              "on_trend_title                    0.002280\n",
              "transcript_prediction             0.000000\n",
              "title_prediction                  0.000000\n",
              "description_prediction            0.000000\n",
              "post_covid                        0.000000"
            ]
          },
          "metadata": {},
          "execution_count": 34
        }
      ]
    },
    {
      "cell_type": "code",
      "metadata": {
        "id": "sL7LrL4rgoVm"
      },
      "source": [
        "from sklearn.svm import SVC\n",
        "svc = SVC(kernel='linear')\n",
        "svc.fit(normalize(input_df_train), train_y)\n",
        "ypred_test_final = svc.predict(normalize(input_df_test))"
      ],
      "execution_count": 35,
      "outputs": []
    },
    {
      "cell_type": "code",
      "metadata": {
        "colab": {
          "base_uri": "https://localhost:8080/",
          "height": 749
        },
        "id": "gOwugCO6jrqy",
        "outputId": "8369d881-0f87-4cb1-c1df-61138c42a0ff"
      },
      "source": [
        "score(test_y, ypred_test_final)\n",
        "svc_coefs = pd.DataFrame(svc.coef_).T\n",
        "svc_coefs.index = input_df_train.columns\n",
        "svc_coefs.columns=['coef']\n",
        "svc_coefs.sort_values('coef',ascending=False)"
      ],
      "execution_count": 36,
      "outputs": [
        {
          "output_type": "stream",
          "name": "stdout",
          "text": [
            "[[6819 2316]\n",
            " [3298 5436]]\n",
            "              precision    recall  f1-score   support\n",
            "\n",
            "           0       0.67      0.75      0.71      9135\n",
            "           1       0.70      0.62      0.66      8734\n",
            "\n",
            "    accuracy                           0.69     17869\n",
            "   macro avg       0.69      0.68      0.68     17869\n",
            "weighted avg       0.69      0.69      0.68     17869\n",
            "\n",
            "accuracy_score:  0.6858246124573283\n",
            "f1_score:        0.6594686400582312\n",
            "precision_score: 0.7012383900928792\n",
            "recall_score:    0.6223952370048088\n"
          ]
        },
        {
          "output_type": "execute_result",
          "data": {
            "text/html": [
              "<div>\n",
              "<style scoped>\n",
              "    .dataframe tbody tr th:only-of-type {\n",
              "        vertical-align: middle;\n",
              "    }\n",
              "\n",
              "    .dataframe tbody tr th {\n",
              "        vertical-align: top;\n",
              "    }\n",
              "\n",
              "    .dataframe thead th {\n",
              "        text-align: right;\n",
              "    }\n",
              "</style>\n",
              "<table border=\"1\" class=\"dataframe\">\n",
              "  <thead>\n",
              "    <tr style=\"text-align: right;\">\n",
              "      <th></th>\n",
              "      <th>coef</th>\n",
              "    </tr>\n",
              "  </thead>\n",
              "  <tbody>\n",
              "    <tr>\n",
              "      <th>age_restricted</th>\n",
              "      <td>1.154015</td>\n",
              "    </tr>\n",
              "    <tr>\n",
              "      <th>n_keywords</th>\n",
              "      <td>0.926307</td>\n",
              "    </tr>\n",
              "    <tr>\n",
              "      <th>has_music</th>\n",
              "      <td>0.614547</td>\n",
              "    </tr>\n",
              "    <tr>\n",
              "      <th>on_trend_title</th>\n",
              "      <td>0.384656</td>\n",
              "    </tr>\n",
              "    <tr>\n",
              "      <th>duration_med</th>\n",
              "      <td>0.307864</td>\n",
              "    </tr>\n",
              "    <tr>\n",
              "      <th>on_trend_description</th>\n",
              "      <td>0.307251</td>\n",
              "    </tr>\n",
              "    <tr>\n",
              "      <th>has_sounds</th>\n",
              "      <td>0.231140</td>\n",
              "    </tr>\n",
              "    <tr>\n",
              "      <th>transcript_prediction</th>\n",
              "      <td>0.000000</td>\n",
              "    </tr>\n",
              "    <tr>\n",
              "      <th>title_prediction</th>\n",
              "      <td>0.000000</td>\n",
              "    </tr>\n",
              "    <tr>\n",
              "      <th>description_prediction</th>\n",
              "      <td>0.000000</td>\n",
              "    </tr>\n",
              "    <tr>\n",
              "      <th>post_covid</th>\n",
              "      <td>0.000000</td>\n",
              "    </tr>\n",
              "    <tr>\n",
              "      <th>n_posts_by_channel</th>\n",
              "      <td>-0.000115</td>\n",
              "    </tr>\n",
              "    <tr>\n",
              "      <th>duration_short</th>\n",
              "      <td>-0.076133</td>\n",
              "    </tr>\n",
              "    <tr>\n",
              "      <th>on_trend_transcript</th>\n",
              "      <td>-0.076947</td>\n",
              "    </tr>\n",
              "  </tbody>\n",
              "</table>\n",
              "</div>"
            ],
            "text/plain": [
              "                            coef\n",
              "age_restricted          1.154015\n",
              "n_keywords              0.926307\n",
              "has_music               0.614547\n",
              "on_trend_title          0.384656\n",
              "duration_med            0.307864\n",
              "on_trend_description    0.307251\n",
              "has_sounds              0.231140\n",
              "transcript_prediction   0.000000\n",
              "title_prediction        0.000000\n",
              "description_prediction  0.000000\n",
              "post_covid              0.000000\n",
              "n_posts_by_channel     -0.000115\n",
              "duration_short         -0.076133\n",
              "on_trend_transcript    -0.076947"
            ]
          },
          "metadata": {},
          "execution_count": 36
        }
      ]
    }
  ]
}