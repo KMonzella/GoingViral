{
 "cells": [
  {
   "cell_type": "markdown",
   "metadata": {},
   "source": [
    "Author: KMonzella <br>\n",
    "Date: 2021/10/26 <br>\n",
    "Subject: Combine CSVs <br>\n",
    "Overview: In our 00 program, we output many CSV files of YouTube links, one from each search topic from the random word generator. In this program, we combine the output CSV files into a single CSV file of links for use."
   ]
  },
  {
   "cell_type": "code",
   "execution_count": 4,
   "metadata": {},
   "outputs": [],
   "source": [
    "import os\n",
    "import time\n",
    "import glob\n",
    "import pandas as pd\n",
    "os.chdir(\"/Users/kelleymonzella1/Desktop/Graduate_school_work/Big_Data/Final_project/Data/to_combine\")"
   ]
  },
  {
   "cell_type": "code",
   "execution_count": 5,
   "metadata": {},
   "outputs": [
    {
     "name": "stdout",
     "output_type": "stream",
     "text": [
      "['youtube_urls_20211122-16.51.39.csv', 'youtube_urls_20211122-16.09.50.csv', 'youtube_urls_20211122-20.56.39.csv', 'youtube_urls_20211122-10.46.27.csv', 'youtube_urls_20211122-16.26.59.csv', 'youtube_urls_20211122-10.43.17.csv', 'youtube_urls_20211122-20.47.57.csv', 'youtube_urls_20211122-20.53.36.csv', 'youtube_urls_20211122-19.16.47.csv', 'youtube_urls_20211122-13.37.39.csv', 'youtube_urls_20211122-21.06.40.csv', 'youtube_urls_20211122-21.23.29.csv', 'youtube_urls_20211122-16.06.16.csv', 'youtube_urls_20211122-16.08.06.csv', 'youtube_urls_20211122-20.59.56.csv', 'youtube_urls_20211122-21.09.38.csv', 'youtube_urls_20211122-19.20.53.csv', 'youtube_urls_20211122-21.28.09.csv', 'youtube_urls_20211122-10.50.40.csv', 'youtube_urls_20211122-13.40.49.csv', 'youtube_urls_20211122-14.47.30.csv', 'youtube_urls_20211122-13.34.45.csv', 'youtube_urls_20211122-20.46.07.csv', 'youtube_urls_20211122-14.39.48.csv', 'youtube_urls_20211122-21.14.46.csv', 'youtube_urls_20211122-20.39.00.csv', 'youtube_urls_20211122-20.41.24.csv', 'youtube_urls_20211122-16.29.24.csv', 'youtube_urls_20211122-21.16.42.csv', 'youtube_urls_20211122-16.49.48.csv', 'youtube_urls_20211122-16.20.01.csv', 'youtube_urls_20211122-19.10.21.csv', 'youtube_urls_20211122-21.15.13.csv', 'youtube_urls_20211122-13.39.07.csv', 'youtube_urls_20211122-16.21.55.csv', 'youtube_urls_20211122-16.56.34.csv', 'youtube_urls_20211122-20.27.29.csv', 'youtube_urls_20211122-21.37.29.csv', 'youtube_urls_20211122-16.21.33.csv', 'youtube_urls_20211122-16.30.48.csv', 'youtube_urls_20211122-10.45.03.csv', 'youtube_urls_20211122-10.48.42.csv', 'youtube_urls_20211122-16.38.05.csv', 'youtube_urls_20211122-13.33.13.csv', 'youtube_urls_20211122-16.28.04.csv', 'youtube_urls_20211122-20.50.29.csv', 'youtube_urls_20211122-16.55.04.csv', 'youtube_urls_20211122-13.30.56.csv', 'youtube_urls_20211122-16.43.48.csv', 'youtube_urls_20211122-16.05.21.csv', 'youtube_urls_20211122-20.25.59.csv', 'youtube_urls_20211122-19.10.54.csv', 'youtube_urls_20211122-21.39.03.csv', 'youtube_urls_20211122-20.51.55.csv', 'youtube_urls_20211122-20.31.11.csv', 'youtube_urls_20211122-21.27.02.csv', 'youtube_urls_20211122-20.35.49.csv', 'youtube_urls_20211122-19.18.19.csv', 'youtube_urls_20211122-16.58.51.csv', 'youtube_urls_20211122-21.13.06.csv', 'youtube_urls_20211122-20.33.00.csv', 'youtube_urls_20211122-20.34.09.csv', 'youtube_urls_20211122-21.14.25.csv', 'youtube_urls_20211122-21.25.11.csv', 'youtube_urls_20211122-14.43.20.csv', 'youtube_urls_20211122-19.26.42.csv', 'youtube_urls_20211122-16.47.13.csv', 'youtube_urls_20211122-19.25.06.csv', 'youtube_urls_20211122-21.30.19.csv', 'youtube_urls_20211122-21.20.20.csv', 'youtube_urls_20211122-10.52.05.csv', 'youtube_urls_20211122-21.18.29.csv', 'youtube_urls_20211122-16.23.03.csv', 'youtube_urls_20211122-16.52.03.csv', 'youtube_urls_20211122-20.49.12.csv', 'youtube_urls_20211122-16.45.33.csv', 'youtube_urls_20211122-21.32.04.csv', 'youtube_urls_20211122-10.55.33.csv', 'youtube_urls_20211122-16.53.54.csv', 'youtube_urls_20211122-16.39.58.csv', 'youtube_urls_20211122-17.08.33.csv', 'youtube_urls_20211122-20.44.45.csv', 'youtube_urls_20211122-16.32.51.csv', 'youtube_urls_20211122-10.40.07.csv', 'youtube_urls_20211122-21.07.57.csv', 'youtube_urls_20211122-21.35.22.csv', 'youtube_urls_20211122-21.03.23.csv', 'youtube_urls_20211122-16.11.49.csv', 'youtube_urls_20211122-16.16.40.csv', 'youtube_urls_20211122-10.41.57.csv', 'youtube_urls_20211122-13.36.02.csv', 'youtube_urls_20211122-19.22.11.csv', 'youtube_urls_20211122-21.11.22.csv', 'youtube_urls_20211122-20.55.11.csv', 'youtube_urls_20211122-21.33.42.csv', 'youtube_urls_20211122-10.53.42.csv', 'youtube_urls_20211122-21.28.58.csv', 'youtube_urls_20211122-16.14.46.csv', 'youtube_urls_20211122-16.24.26.csv', 'youtube_urls_20211122-13.31.20.csv', 'youtube_urls_20211122-14.45.49.csv', 'youtube_urls_20211122-14.41.11.csv', 'youtube_urls_20211122-16.17.59.csv', 'youtube_urls_20211122-20.43.11.csv', 'youtube_urls_20211122-19.13.41.csv', 'youtube_urls_20211122-21.01.42.csv', 'youtube_urls_20211122-16.59.41.csv', 'youtube_urls_20211122-16.32.31.csv', 'youtube_urls_20211122-16.25.29.csv', 'youtube_urls_20211122-19.15.21.csv', 'youtube_urls_20211122-14.44.45.csv', 'youtube_urls_20211122-16.57.46.csv', 'youtube_urls_20211122-16.59.56.csv', 'youtube_urls_20211122-16.13.17.csv', 'youtube_urls_20211122-21.21.30.csv', 'youtube_urls_20211122-19.12.13.csv', 'youtube_urls_20211122-21.35.41.csv', 'youtube_urls_20211122-20.29.27.csv', 'youtube_urls_20211122-19.23.33.csv', 'youtube_urls_20211122-14.41.58.csv', 'youtube_urls_20211122-19.19.26.csv', 'youtube_urls_20211122-21.05.08.csv', 'youtube_urls_20211122-16.01.12.csv', 'youtube_urls_20211122-17.07.04.csv', 'youtube_urls_20211122-16.24.47.csv', 'youtube_urls_20211122-20.37.26.csv', 'youtube_urls_20211122-20.40.47.csv', 'youtube_urls_20211122-16.41.18.csv', 'youtube_urls_20211122-16.39.28.csv', 'youtube_urls_20211122-16.43.09.csv', 'youtube_urls_20211122-20.58.24.csv', 'youtube_urls_20211122-16.48.01.csv', 'youtube_urls_20211122-16.03.28.csv']\n"
     ]
    }
   ],
   "source": [
    "extension = 'csv'\n",
    "all_filenames = [i for i in glob.glob('*.{}'.format(extension))]\n",
    "print(all_filenames)\n"
   ]
  },
  {
   "cell_type": "code",
   "execution_count": 6,
   "metadata": {},
   "outputs": [
    {
     "name": "stdout",
     "output_type": "stream",
     "text": [
      "65687\n",
      "64652\n"
     ]
    }
   ],
   "source": [
    "# combine all files in the list\n",
    "combined_csv = pd.concat([pd.read_csv(f) for f in all_filenames ])\n",
    "\n",
    "# keep just the URL column, not the index\n",
    "lim_csv = combined_csv['URL']\n",
    "lim_csv.reset_index(drop=True)\n",
    "\n",
    "print(lim_csv.shape[0])\n",
    "\n",
    "# drop any duplicates that might have been pulled during processing\n",
    "lim_csv = lim_csv.drop_duplicates()\n",
    "print(lim_csv.shape[0])"
   ]
  },
  {
   "cell_type": "code",
   "execution_count": 7,
   "metadata": {},
   "outputs": [],
   "source": [
    "# export to csv\n",
    "fname = lambda : \"youtube_urls_combined_{}.csv\".format(time.strftime(\"%Y%m%d\"))\n",
    "lim_csv.to_csv(fname(), index=False, encoding='utf-8-sig')"
   ]
  }
 ],
 "metadata": {
  "kernelspec": {
   "display_name": "Python 3",
   "language": "python",
   "name": "python3"
  },
  "language_info": {
   "codemirror_mode": {
    "name": "ipython",
    "version": 3
   },
   "file_extension": ".py",
   "mimetype": "text/x-python",
   "name": "python",
   "nbconvert_exporter": "python",
   "pygments_lexer": "ipython3",
   "version": "3.8.8"
  }
 },
 "nbformat": 4,
 "nbformat_minor": 4
}
